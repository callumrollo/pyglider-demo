{
 "cells": [
  {
   "cell_type": "markdown",
   "id": "2405a2ef",
   "metadata": {},
   "source": [
    "# Setup\n",
    "\n",
    "We import modules from `pyglider` and declare the paths to our data, deploymentyaml and directories where output files will be stored"
   ]
  },
  {
   "cell_type": "code",
   "execution_count": null,
   "id": "d239e9e0",
   "metadata": {},
   "outputs": [],
   "source": [
    "from pyglider import seaexplorer, plotting, ncprocess\n",
    "\n",
    "rawdir = 'realtime_raw/'\n",
    "rawncdir = 'realtime_rawnc/'\n",
    "deploymentyaml = 'deploymentRealtime.yml'\n",
    "l0tsdir = 'L0-timeseries/'\n",
    "profiledir = 'L0-profiles/'\n",
    "griddir = 'L0-gridfiles/'\n",
    "plottingyaml = 'plottingconfig.yml'"
   ]
  },
  {
   "cell_type": "markdown",
   "id": "3df7326d",
   "metadata": {},
   "source": [
    "Before plotting, run a makefile to clear out results of previous runs. Skip this step if `make` is not installed on your system. Instead, delete all the files in the directories listed above except `rawdir`"
   ]
  },
  {
   "cell_type": "code",
   "execution_count": null,
   "id": "f9ea9709",
   "metadata": {},
   "outputs": [],
   "source": [
    "!make clean-all"
   ]
  },
  {
   "cell_type": "markdown",
   "id": "32a4cd4d",
   "metadata": {},
   "source": [
    "Set up logging. Can set this at level ERROR, WARNING, INFO or DEBUG depending on how much information you want"
   ]
  },
  {
   "cell_type": "code",
   "execution_count": null,
   "id": "f210c7a7",
   "metadata": {},
   "outputs": [],
   "source": [
    "import logging\n",
    "logging.basicConfig(level='WARNING')"
   ]
  },
  {
   "cell_type": "markdown",
   "id": "d4bd53e3",
   "metadata": {},
   "source": [
    "# Processing\n",
    "\n",
    "First we convert the raw files for individual netcdfs"
   ]
  },
  {
   "cell_type": "code",
   "execution_count": null,
   "id": "d269aa3e",
   "metadata": {},
   "outputs": [],
   "source": [
    "seaexplorer.raw_to_rawnc(rawdir, rawncdir, deploymentyaml)"
   ]
  },
  {
   "cell_type": "markdown",
   "id": "0035b12e",
   "metadata": {},
   "source": [
    "Merge individual netcdf files into single netcdf files *.gli*.nc and *.pld1*.nc"
   ]
  },
  {
   "cell_type": "code",
   "execution_count": null,
   "id": "43b06a78",
   "metadata": {},
   "outputs": [],
   "source": [
    "seaexplorer.merge_rawnc(rawncdir, rawncdir, deploymentyaml, kind='sub')"
   ]
  },
  {
   "cell_type": "markdown",
   "id": "24c7adc7",
   "metadata": {},
   "source": [
    "Make level-0 timeseries netcdf file from the raw netcdf files"
   ]
  },
  {
   "cell_type": "code",
   "execution_count": null,
   "id": "f4a83e1e",
   "metadata": {},
   "outputs": [],
   "source": [
    "outname = seaexplorer.raw_to_L0timeseries(rawncdir, l0tsdir, deploymentyaml, kind='sub')"
   ]
  },
  {
   "cell_type": "markdown",
   "id": "197314da",
   "metadata": {},
   "source": [
    "Create profile netcdfs for each dive segment (one for descent, one for ascent) and a gridded product"
   ]
  },
  {
   "cell_type": "code",
   "execution_count": null,
   "id": "172e2cab",
   "metadata": {},
   "outputs": [],
   "source": [
    "ncprocess.extract_L0timeseries_profiles(outname, profiledir, deploymentyaml)\n",
    "outname2 = ncprocess.make_L0_gridfiles(outname, griddir, deploymentyaml)"
   ]
  },
  {
   "cell_type": "markdown",
   "id": "40876d10",
   "metadata": {},
   "source": [
    "Create plots"
   ]
  },
  {
   "cell_type": "code",
   "execution_count": null,
   "id": "0ab0f43e",
   "metadata": {},
   "outputs": [],
   "source": [
    "plotting.timeseries_plots(outname, plottingyaml)\n",
    "plotting.grid_plots(outname2, plottingyaml)"
   ]
  }
 ],
 "metadata": {
  "kernelspec": {
   "display_name": "Python 3 (ipykernel)",
   "language": "python",
   "name": "python3"
  },
  "language_info": {
   "codemirror_mode": {
    "name": "ipython",
    "version": 3
   },
   "file_extension": ".py",
   "mimetype": "text/x-python",
   "name": "python",
   "nbconvert_exporter": "python",
   "pygments_lexer": "ipython3",
   "version": "3.9.7"
  }
 },
 "nbformat": 4,
 "nbformat_minor": 5
}
